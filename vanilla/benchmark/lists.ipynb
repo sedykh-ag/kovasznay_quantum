{
 "cells": [
  {
   "cell_type": "code",
   "execution_count": 1,
   "metadata": {},
   "outputs": [],
   "source": [
    "from time import perf_counter as time\n",
    "\n",
    "import torch\n",
    "import numpy as np"
   ]
  },
  {
   "cell_type": "code",
   "execution_count": 2,
   "metadata": {},
   "outputs": [],
   "source": [
    "def timeit(func):\n",
    "    def wrapper(*args, **kwargs):\n",
    "        t0 = time()\n",
    "        value = func(*args, **kwargs)\n",
    "        t1 = time()\n",
    "        print(f\"{t1 - t0:.2f} seconds\")\n",
    "        return value\n",
    "    return wrapper"
   ]
  },
  {
   "cell_type": "code",
   "execution_count": 3,
   "metadata": {},
   "outputs": [
    {
     "name": "stdout",
     "output_type": "stream",
     "text": [
      "[[0. 1.]\n",
      " [2. 3.]\n",
      " [4. 5.]]\n"
     ]
    }
   ],
   "source": [
    "n = 1000000\n",
    "a = np.arange(n).reshape(-1, 2).astype(\"float\")\n",
    "print(a[:3])"
   ]
  },
  {
   "cell_type": "code",
   "execution_count": 6,
   "metadata": {},
   "outputs": [],
   "source": [
    "def func_1(x):\n",
    "    return x[0]**2 + x[1]**2\n",
    "\n",
    "@timeit\n",
    "def func_2(x):\n",
    "    return x[:, 0]**2 + x[:, 1]**2\n",
    "\n",
    "@timeit\n",
    "def func_3(x):\n",
    "    return np.array([func_1(x[i]) for i in range(len(x))])"
   ]
  },
  {
   "cell_type": "code",
   "execution_count": 8,
   "metadata": {},
   "outputs": [
    {
     "name": "stdout",
     "output_type": "stream",
     "text": [
      "0.13 seconds\n"
     ]
    },
    {
     "data": {
      "text/plain": [
       "array([1.000000e+00, 1.300000e+01, 4.100000e+01, ..., 1.999978e+12,\n",
       "       1.999986e+12, 1.999994e+12])"
      ]
     },
     "execution_count": 8,
     "metadata": {},
     "output_type": "execute_result"
    }
   ],
   "source": [
    "func_3(a)"
   ]
  },
  {
   "cell_type": "code",
   "execution_count": 23,
   "metadata": {},
   "outputs": [
    {
     "ename": "IndexError",
     "evalue": "invalid index to scalar variable.",
     "output_type": "error",
     "traceback": [
      "\u001b[0;31m---------------------------------------------------------------------------\u001b[0m",
      "\u001b[0;31mIndexError\u001b[0m                                Traceback (most recent call last)",
      "Cell \u001b[0;32mIn[23], line 1\u001b[0m\n\u001b[0;32m----> 1\u001b[0m func_1(np\u001b[39m.\u001b[39;49marray([\u001b[39m1.0\u001b[39;49m, \u001b[39m2.0\u001b[39;49m]))\n",
      "File \u001b[0;32m~/miniconda3/envs/torch/lib/python3.10/site-packages/numpy/lib/function_base.py:2328\u001b[0m, in \u001b[0;36mvectorize.__call__\u001b[0;34m(self, *args, **kwargs)\u001b[0m\n\u001b[1;32m   2325\u001b[0m     vargs \u001b[39m=\u001b[39m [args[_i] \u001b[39mfor\u001b[39;00m _i \u001b[39min\u001b[39;00m inds]\n\u001b[1;32m   2326\u001b[0m     vargs\u001b[39m.\u001b[39mextend([kwargs[_n] \u001b[39mfor\u001b[39;00m _n \u001b[39min\u001b[39;00m names])\n\u001b[0;32m-> 2328\u001b[0m \u001b[39mreturn\u001b[39;00m \u001b[39mself\u001b[39;49m\u001b[39m.\u001b[39;49m_vectorize_call(func\u001b[39m=\u001b[39;49mfunc, args\u001b[39m=\u001b[39;49mvargs)\n",
      "File \u001b[0;32m~/miniconda3/envs/torch/lib/python3.10/site-packages/numpy/lib/function_base.py:2406\u001b[0m, in \u001b[0;36mvectorize._vectorize_call\u001b[0;34m(self, func, args)\u001b[0m\n\u001b[1;32m   2404\u001b[0m     res \u001b[39m=\u001b[39m func()\n\u001b[1;32m   2405\u001b[0m \u001b[39melse\u001b[39;00m:\n\u001b[0;32m-> 2406\u001b[0m     ufunc, otypes \u001b[39m=\u001b[39m \u001b[39mself\u001b[39;49m\u001b[39m.\u001b[39;49m_get_ufunc_and_otypes(func\u001b[39m=\u001b[39;49mfunc, args\u001b[39m=\u001b[39;49margs)\n\u001b[1;32m   2408\u001b[0m     \u001b[39m# Convert args to object arrays first\u001b[39;00m\n\u001b[1;32m   2409\u001b[0m     inputs \u001b[39m=\u001b[39m [asanyarray(a, dtype\u001b[39m=\u001b[39m\u001b[39mobject\u001b[39m) \u001b[39mfor\u001b[39;00m a \u001b[39min\u001b[39;00m args]\n",
      "File \u001b[0;32m~/miniconda3/envs/torch/lib/python3.10/site-packages/numpy/lib/function_base.py:2366\u001b[0m, in \u001b[0;36mvectorize._get_ufunc_and_otypes\u001b[0;34m(self, func, args)\u001b[0m\n\u001b[1;32m   2362\u001b[0m     \u001b[39mraise\u001b[39;00m \u001b[39mValueError\u001b[39;00m(\u001b[39m'\u001b[39m\u001b[39mcannot call `vectorize` on size 0 inputs \u001b[39m\u001b[39m'\u001b[39m\n\u001b[1;32m   2363\u001b[0m                      \u001b[39m'\u001b[39m\u001b[39munless `otypes` is set\u001b[39m\u001b[39m'\u001b[39m)\n\u001b[1;32m   2365\u001b[0m inputs \u001b[39m=\u001b[39m [arg\u001b[39m.\u001b[39mflat[\u001b[39m0\u001b[39m] \u001b[39mfor\u001b[39;00m arg \u001b[39min\u001b[39;00m args]\n\u001b[0;32m-> 2366\u001b[0m outputs \u001b[39m=\u001b[39m func(\u001b[39m*\u001b[39;49minputs)\n\u001b[1;32m   2368\u001b[0m \u001b[39m# Performance note: profiling indicates that -- for simple\u001b[39;00m\n\u001b[1;32m   2369\u001b[0m \u001b[39m# functions at least -- this wrapping can almost double the\u001b[39;00m\n\u001b[1;32m   2370\u001b[0m \u001b[39m# execution time.\u001b[39;00m\n\u001b[1;32m   2371\u001b[0m \u001b[39m# Hence we make it optional.\u001b[39;00m\n\u001b[1;32m   2372\u001b[0m \u001b[39mif\u001b[39;00m \u001b[39mself\u001b[39m\u001b[39m.\u001b[39mcache:\n",
      "Cell \u001b[0;32mIn[8], line 2\u001b[0m, in \u001b[0;36mfunc_1\u001b[0;34m(x)\u001b[0m\n\u001b[1;32m      1\u001b[0m \u001b[39mdef\u001b[39;00m \u001b[39mfunc_1\u001b[39m(x):\n\u001b[0;32m----> 2\u001b[0m     \u001b[39mreturn\u001b[39;00m x[\u001b[39m0\u001b[39;49m]\u001b[39m*\u001b[39m\u001b[39m*\u001b[39m\u001b[39m2\u001b[39m \u001b[39m+\u001b[39m x[\u001b[39m1\u001b[39m]\u001b[39m*\u001b[39m\u001b[39m*\u001b[39m\u001b[39m2\u001b[39m\n",
      "\u001b[0;31mIndexError\u001b[0m: invalid index to scalar variable."
     ]
    }
   ],
   "source": [
    "func_1(np.array([1.0, 2.0]))"
   ]
  },
  {
   "cell_type": "code",
   "execution_count": 21,
   "metadata": {},
   "outputs": [
    {
     "data": {
      "text/plain": [
       "array([2., 3.])"
      ]
     },
     "execution_count": 21,
     "metadata": {},
     "output_type": "execute_result"
    }
   ],
   "source": [
    "a[1]"
   ]
  },
  {
   "cell_type": "code",
   "execution_count": 11,
   "metadata": {},
   "outputs": [
    {
     "name": "stdout",
     "output_type": "stream",
     "text": [
      "0.00 seconds\n"
     ]
    },
    {
     "data": {
      "text/plain": [
       "array([1.000000e+00, 1.300000e+01, 4.100000e+01, ..., 1.999978e+12,\n",
       "       1.999986e+12, 1.999994e+12])"
      ]
     },
     "execution_count": 11,
     "metadata": {},
     "output_type": "execute_result"
    }
   ],
   "source": [
    "another_way()"
   ]
  },
  {
   "cell_type": "code",
   "execution_count": 12,
   "metadata": {},
   "outputs": [
    {
     "ename": "IndexError",
     "evalue": "invalid index to scalar variable.",
     "output_type": "error",
     "traceback": [
      "\u001b[0;31m---------------------------------------------------------------------------\u001b[0m",
      "\u001b[0;31mIndexError\u001b[0m                                Traceback (most recent call last)",
      "Cell \u001b[0;32mIn[12], line 1\u001b[0m\n\u001b[0;32m----> 1\u001b[0m yet_another_way()\n",
      "Cell \u001b[0;32mIn[6], line 4\u001b[0m, in \u001b[0;36mtimeit.<locals>.wrapper\u001b[0;34m(*args, **kwargs)\u001b[0m\n\u001b[1;32m      2\u001b[0m \u001b[39mdef\u001b[39;00m \u001b[39mwrapper\u001b[39m(\u001b[39m*\u001b[39margs, \u001b[39m*\u001b[39m\u001b[39m*\u001b[39mkwargs):\n\u001b[1;32m      3\u001b[0m     t0 \u001b[39m=\u001b[39m time()\n\u001b[0;32m----> 4\u001b[0m     value \u001b[39m=\u001b[39m func(\u001b[39m*\u001b[39;49margs, \u001b[39m*\u001b[39;49m\u001b[39m*\u001b[39;49mkwargs)\n\u001b[1;32m      5\u001b[0m     t1 \u001b[39m=\u001b[39m time()\n\u001b[1;32m      6\u001b[0m     \u001b[39mprint\u001b[39m(\u001b[39mf\u001b[39m\u001b[39m\"\u001b[39m\u001b[39m{\u001b[39;00mt1\u001b[39m \u001b[39m\u001b[39m-\u001b[39m\u001b[39m \u001b[39mt0\u001b[39m:\u001b[39;00m\u001b[39m.2f\u001b[39m\u001b[39m}\u001b[39;00m\u001b[39m seconds\u001b[39m\u001b[39m\"\u001b[39m)\n",
      "Cell \u001b[0;32mIn[9], line 15\u001b[0m, in \u001b[0;36myet_another_way\u001b[0;34m()\u001b[0m\n\u001b[1;32m     13\u001b[0m \u001b[39m@timeit\u001b[39m\n\u001b[1;32m     14\u001b[0m \u001b[39mdef\u001b[39;00m \u001b[39myet_another_way\u001b[39m():\n\u001b[0;32m---> 15\u001b[0m     \u001b[39mreturn\u001b[39;00m func_3(a)\n",
      "Cell \u001b[0;32mIn[8], line 8\u001b[0m, in \u001b[0;36mfunc_3\u001b[0;34m(x)\u001b[0m\n\u001b[1;32m      7\u001b[0m \u001b[39mdef\u001b[39;00m \u001b[39mfunc_3\u001b[39m(x):\n\u001b[0;32m----> 8\u001b[0m     \u001b[39mreturn\u001b[39;00m np\u001b[39m.\u001b[39marray([func_1(x[i]) \u001b[39mfor\u001b[39;00m i \u001b[39min\u001b[39;00m \u001b[39mrange\u001b[39m(\u001b[39mlen\u001b[39m(x))])\n",
      "Cell \u001b[0;32mIn[8], line 8\u001b[0m, in \u001b[0;36m<listcomp>\u001b[0;34m(.0)\u001b[0m\n\u001b[1;32m      7\u001b[0m \u001b[39mdef\u001b[39;00m \u001b[39mfunc_3\u001b[39m(x):\n\u001b[0;32m----> 8\u001b[0m     \u001b[39mreturn\u001b[39;00m np\u001b[39m.\u001b[39marray([func_1(x[i]) \u001b[39mfor\u001b[39;00m i \u001b[39min\u001b[39;00m \u001b[39mrange\u001b[39m(\u001b[39mlen\u001b[39m(x))])\n",
      "File \u001b[0;32m~/miniconda3/envs/torch/lib/python3.10/site-packages/numpy/lib/function_base.py:2328\u001b[0m, in \u001b[0;36mvectorize.__call__\u001b[0;34m(self, *args, **kwargs)\u001b[0m\n\u001b[1;32m   2325\u001b[0m     vargs \u001b[39m=\u001b[39m [args[_i] \u001b[39mfor\u001b[39;00m _i \u001b[39min\u001b[39;00m inds]\n\u001b[1;32m   2326\u001b[0m     vargs\u001b[39m.\u001b[39mextend([kwargs[_n] \u001b[39mfor\u001b[39;00m _n \u001b[39min\u001b[39;00m names])\n\u001b[0;32m-> 2328\u001b[0m \u001b[39mreturn\u001b[39;00m \u001b[39mself\u001b[39;49m\u001b[39m.\u001b[39;49m_vectorize_call(func\u001b[39m=\u001b[39;49mfunc, args\u001b[39m=\u001b[39;49mvargs)\n",
      "File \u001b[0;32m~/miniconda3/envs/torch/lib/python3.10/site-packages/numpy/lib/function_base.py:2406\u001b[0m, in \u001b[0;36mvectorize._vectorize_call\u001b[0;34m(self, func, args)\u001b[0m\n\u001b[1;32m   2404\u001b[0m     res \u001b[39m=\u001b[39m func()\n\u001b[1;32m   2405\u001b[0m \u001b[39melse\u001b[39;00m:\n\u001b[0;32m-> 2406\u001b[0m     ufunc, otypes \u001b[39m=\u001b[39m \u001b[39mself\u001b[39;49m\u001b[39m.\u001b[39;49m_get_ufunc_and_otypes(func\u001b[39m=\u001b[39;49mfunc, args\u001b[39m=\u001b[39;49margs)\n\u001b[1;32m   2408\u001b[0m     \u001b[39m# Convert args to object arrays first\u001b[39;00m\n\u001b[1;32m   2409\u001b[0m     inputs \u001b[39m=\u001b[39m [asanyarray(a, dtype\u001b[39m=\u001b[39m\u001b[39mobject\u001b[39m) \u001b[39mfor\u001b[39;00m a \u001b[39min\u001b[39;00m args]\n",
      "File \u001b[0;32m~/miniconda3/envs/torch/lib/python3.10/site-packages/numpy/lib/function_base.py:2366\u001b[0m, in \u001b[0;36mvectorize._get_ufunc_and_otypes\u001b[0;34m(self, func, args)\u001b[0m\n\u001b[1;32m   2362\u001b[0m     \u001b[39mraise\u001b[39;00m \u001b[39mValueError\u001b[39;00m(\u001b[39m'\u001b[39m\u001b[39mcannot call `vectorize` on size 0 inputs \u001b[39m\u001b[39m'\u001b[39m\n\u001b[1;32m   2363\u001b[0m                      \u001b[39m'\u001b[39m\u001b[39munless `otypes` is set\u001b[39m\u001b[39m'\u001b[39m)\n\u001b[1;32m   2365\u001b[0m inputs \u001b[39m=\u001b[39m [arg\u001b[39m.\u001b[39mflat[\u001b[39m0\u001b[39m] \u001b[39mfor\u001b[39;00m arg \u001b[39min\u001b[39;00m args]\n\u001b[0;32m-> 2366\u001b[0m outputs \u001b[39m=\u001b[39m func(\u001b[39m*\u001b[39;49minputs)\n\u001b[1;32m   2368\u001b[0m \u001b[39m# Performance note: profiling indicates that -- for simple\u001b[39;00m\n\u001b[1;32m   2369\u001b[0m \u001b[39m# functions at least -- this wrapping can almost double the\u001b[39;00m\n\u001b[1;32m   2370\u001b[0m \u001b[39m# execution time.\u001b[39;00m\n\u001b[1;32m   2371\u001b[0m \u001b[39m# Hence we make it optional.\u001b[39;00m\n\u001b[1;32m   2372\u001b[0m \u001b[39mif\u001b[39;00m \u001b[39mself\u001b[39m\u001b[39m.\u001b[39mcache:\n",
      "Cell \u001b[0;32mIn[8], line 2\u001b[0m, in \u001b[0;36mfunc_1\u001b[0;34m(x)\u001b[0m\n\u001b[1;32m      1\u001b[0m \u001b[39mdef\u001b[39;00m \u001b[39mfunc_1\u001b[39m(x):\n\u001b[0;32m----> 2\u001b[0m     \u001b[39mreturn\u001b[39;00m x[\u001b[39m0\u001b[39;49m]\u001b[39m*\u001b[39m\u001b[39m*\u001b[39m\u001b[39m2\u001b[39m \u001b[39m+\u001b[39m x[\u001b[39m1\u001b[39m]\u001b[39m*\u001b[39m\u001b[39m*\u001b[39m\u001b[39m2\u001b[39m\n",
      "\u001b[0;31mIndexError\u001b[0m: invalid index to scalar variable."
     ]
    }
   ],
   "source": [
    "yet_another_way()"
   ]
  },
  {
   "cell_type": "code",
   "execution_count": null,
   "metadata": {},
   "outputs": [],
   "source": []
  }
 ],
 "metadata": {
  "kernelspec": {
   "display_name": "torch",
   "language": "python",
   "name": "python3"
  },
  "language_info": {
   "codemirror_mode": {
    "name": "ipython",
    "version": 3
   },
   "file_extension": ".py",
   "mimetype": "text/x-python",
   "name": "python",
   "nbconvert_exporter": "python",
   "pygments_lexer": "ipython3",
   "version": "3.10.9"
  },
  "orig_nbformat": 4
 },
 "nbformat": 4,
 "nbformat_minor": 2
}
