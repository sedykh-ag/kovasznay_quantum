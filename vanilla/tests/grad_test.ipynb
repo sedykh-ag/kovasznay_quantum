{
 "cells": [
  {
   "cell_type": "code",
   "execution_count": 1,
   "metadata": {},
   "outputs": [],
   "source": [
    "import torch\n",
    "import numpy as np\n",
    "from lightdde import grad"
   ]
  },
  {
   "cell_type": "code",
   "execution_count": 11,
   "metadata": {},
   "outputs": [
    {
     "data": {
      "text/plain": [
       "140306663396192"
      ]
     },
     "execution_count": 11,
     "metadata": {},
     "output_type": "execute_result"
    }
   ],
   "source": [
    "xs = np.arange(20).reshape(-1, 2).astype(np.float32)\n",
    "xs = torch.from_numpy(xs)\n",
    "xs.requires_grad_()\n",
    "hash(xs)"
   ]
  },
  {
   "cell_type": "code",
   "execution_count": 41,
   "metadata": {},
   "outputs": [
    {
     "data": {
      "text/plain": [
       "140372469406272"
      ]
     },
     "execution_count": 41,
     "metadata": {},
     "output_type": "execute_result"
    }
   ],
   "source": [
    "xs = torch.arange(20).view(-1, 2).float()\n",
    "xs.requires_grad_()\n",
    "hash(xs)"
   ]
  },
  {
   "cell_type": "code",
   "execution_count": 10,
   "metadata": {},
   "outputs": [
    {
     "data": {
      "text/plain": [
       "tensor([[  4.,   3.],\n",
       "        [ 16.,   9.],\n",
       "        [ 28.,  15.],\n",
       "        [ 40.,  21.],\n",
       "        [ 52.,  27.],\n",
       "        [ 64.,  33.],\n",
       "        [ 76.,  39.],\n",
       "        [ 88.,  45.],\n",
       "        [100.,  51.],\n",
       "        [112.,  57.]], grad_fn=<CopySlices>)"
      ]
     },
     "execution_count": 10,
     "metadata": {},
     "output_type": "execute_result"
    }
   ],
   "source": [
    "def f_scalar(x):\n",
    "    return x[:, 0:1]**2 + x[:, 1:2]**2\n",
    "\n",
    "def f_vector(x):\n",
    "   a = torch.zeros_like(x)\n",
    "   a[:, 0:1] = 2 * x[:, 0:1] + 4 * x[:, 1:2]\n",
    "   a[:, 1:2] = 3 * x[:, 1:2]\n",
    "   return a\n",
    "\n",
    "ys = f_vector(xs)\n",
    "ys"
   ]
  },
  {
   "cell_type": "code",
   "execution_count": 5,
   "metadata": {},
   "outputs": [
    {
     "data": {
      "text/plain": [
       "tensor([[0., 3.],\n",
       "        [0., 3.],\n",
       "        [0., 3.],\n",
       "        [0., 3.],\n",
       "        [0., 3.],\n",
       "        [0., 3.],\n",
       "        [0., 3.],\n",
       "        [0., 3.],\n",
       "        [0., 3.],\n",
       "        [0., 3.]])"
      ]
     },
     "execution_count": 5,
     "metadata": {},
     "output_type": "execute_result"
    }
   ],
   "source": [
    "grad.jacobian(ys, xs, i=1)"
   ]
  },
  {
   "cell_type": "code",
   "execution_count": 6,
   "metadata": {},
   "outputs": [
    {
     "name": "stdout",
     "output_type": "stream",
     "text": [
      "key:  (tensor([[  4.,   3.],\n",
      "        [ 16.,   9.],\n",
      "        [ 28.,  15.],\n",
      "        [ 40.,  21.],\n",
      "        [ 52.,  27.],\n",
      "        [ 64.,  33.],\n",
      "        [ 76.,  39.],\n",
      "        [ 88.,  45.],\n",
      "        [100.,  51.],\n",
      "        [112.,  57.]], grad_fn=<CopySlices>), tensor([[ 0.,  1.],\n",
      "        [ 2.,  3.],\n",
      "        [ 4.,  5.],\n",
      "        [ 6.,  7.],\n",
      "        [ 8.,  9.],\n",
      "        [10., 11.],\n",
      "        [12., 13.],\n",
      "        [14., 15.],\n",
      "        [16., 17.],\n",
      "        [18., 19.]], requires_grad=True))\n",
      "value:  {1: tensor([[0., 3.],\n",
      "        [0., 3.],\n",
      "        [0., 3.],\n",
      "        [0., 3.],\n",
      "        [0., 3.],\n",
      "        [0., 3.],\n",
      "        [0., 3.],\n",
      "        [0., 3.],\n",
      "        [0., 3.],\n",
      "        [0., 3.]])}\n",
      "\n",
      "\n"
     ]
    }
   ],
   "source": [
    "for key in grad.jacobian._Jacobians.Js:\n",
    "    print(\"key: \", key)\n",
    "    print(\"value: \", grad.jacobian._Jacobians.Js[key].J)\n",
    "    print(\"\\n\")"
   ]
  },
  {
   "cell_type": "code",
   "execution_count": null,
   "metadata": {},
   "outputs": [],
   "source": []
  }
 ],
 "metadata": {
  "kernelspec": {
   "display_name": "torch",
   "language": "python",
   "name": "python3"
  },
  "language_info": {
   "codemirror_mode": {
    "name": "ipython",
    "version": 3
   },
   "file_extension": ".py",
   "mimetype": "text/x-python",
   "name": "python",
   "nbconvert_exporter": "python",
   "pygments_lexer": "ipython3",
   "version": "3.9.16"
  },
  "orig_nbformat": 4
 },
 "nbformat": 4,
 "nbformat_minor": 2
}
