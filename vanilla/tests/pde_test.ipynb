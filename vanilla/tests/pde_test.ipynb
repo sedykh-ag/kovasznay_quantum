{
 "cells": [
  {
   "cell_type": "code",
   "execution_count": 1,
   "metadata": {},
   "outputs": [],
   "source": [
    "import numpy as np\n",
    "import torch\n",
    "\n",
    "import lightdde as dde"
   ]
  },
  {
   "cell_type": "code",
   "execution_count": 2,
   "metadata": {},
   "outputs": [],
   "source": [
    "Re = 20\n",
    "nu = 1 / Re\n",
    "l = 1 / (2 * nu) - np.sqrt(1 / (4 * nu ** 2) + 4 * np.pi ** 2)"
   ]
  },
  {
   "cell_type": "code",
   "execution_count": 14,
   "metadata": {},
   "outputs": [],
   "source": [
    "def pde(x, u):\n",
    "    u_vel, v_vel, p = u[:, 0:1], u[:, 1:2], u[:, 2:]\n",
    "    u_vel_x = dde.grad.jacobian(u, x, i=0, j=0)\n",
    "    u_vel_y = dde.grad.jacobian(u, x, i=0, j=1)\n",
    "    u_vel_xx = dde.grad.hessian(u, x, component=0, i=0, j=0)\n",
    "    u_vel_yy = dde.grad.hessian(u, x, component=0, i=1, j=1)\n",
    "\n",
    "    v_vel_x = dde.grad.jacobian(u, x, i=1, j=0)\n",
    "    v_vel_y = dde.grad.jacobian(u, x, i=1, j=1)\n",
    "    v_vel_xx = dde.grad.hessian(u, x, component=1, i=0, j=0)\n",
    "    v_vel_yy = dde.grad.hessian(u, x, component=1, i=1, j=1)\n",
    "\n",
    "    p_x = dde.grad.jacobian(u, x, i=2, j=0)\n",
    "    p_y = dde.grad.jacobian(u, x, i=2, j=1)\n",
    "\n",
    "    momentum_x = (\n",
    "        u_vel * u_vel_x + v_vel * u_vel_y + p_x - 1 / Re * (u_vel_xx + u_vel_yy)\n",
    "    )\n",
    "    momentum_y = (\n",
    "        u_vel * v_vel_x + v_vel * v_vel_y + p_y - 1 / Re * (v_vel_xx + v_vel_yy)\n",
    "    )\n",
    "    continuity = u_vel_x + v_vel_y\n",
    "\n",
    "    return [momentum_x, momentum_y, continuity]"
   ]
  },
  {
   "cell_type": "code",
   "execution_count": 15,
   "metadata": {},
   "outputs": [],
   "source": [
    "class FNN(torch.nn.Module):\n",
    "    def __init__(self):\n",
    "        super().__init__()\n",
    "        self.activation = torch.nn.Tanh()\n",
    "        self.net = torch.nn.Sequential(\n",
    "            torch.nn.Linear(2, 50),\n",
    "            self.activation,\n",
    "            torch.nn.Linear(50, 50),\n",
    "            self.activation,\n",
    "            torch.nn.Linear(50, 50),\n",
    "            self.activation,\n",
    "            torch.nn.Linear(50, 50),\n",
    "            self.activation,\n",
    "            torch.nn.Linear(50, 3),\n",
    "        )\n",
    "\n",
    "    def forward(self, x):\n",
    "        x = x.view(-1, 2)\n",
    "        return self.net(x)"
   ]
  },
  {
   "cell_type": "code",
   "execution_count": 16,
   "metadata": {},
   "outputs": [],
   "source": [
    "net = FNN()"
   ]
  },
  {
   "cell_type": "code",
   "execution_count": 17,
   "metadata": {},
   "outputs": [],
   "source": [
    "x = np.random.randn(100, 2).astype(np.float32)\n",
    "x = torch.from_numpy(x).requires_grad_()"
   ]
  },
  {
   "cell_type": "code",
   "execution_count": 18,
   "metadata": {},
   "outputs": [],
   "source": [
    "y = net(x)"
   ]
  },
  {
   "cell_type": "code",
   "execution_count": 19,
   "metadata": {},
   "outputs": [],
   "source": [
    "m_x, m_y, cont = pde(x, y)"
   ]
  },
  {
   "cell_type": "code",
   "execution_count": 20,
   "metadata": {},
   "outputs": [
    {
     "data": {
      "text/plain": [
       "tensor([[0.0391],\n",
       "        [0.0429],\n",
       "        [0.0371],\n",
       "        [0.0414],\n",
       "        [0.0289],\n",
       "        [0.0142],\n",
       "        [0.0229],\n",
       "        [0.0343],\n",
       "        [0.0077],\n",
       "        [0.0192],\n",
       "        [0.0239],\n",
       "        [0.0352],\n",
       "        [0.0423],\n",
       "        [0.0165],\n",
       "        [0.0343],\n",
       "        [0.0407],\n",
       "        [0.0232],\n",
       "        [0.0409],\n",
       "        [0.0061],\n",
       "        [0.0361],\n",
       "        [0.0377],\n",
       "        [0.0391],\n",
       "        [0.0071],\n",
       "        [0.0363],\n",
       "        [0.0297],\n",
       "        [0.0279],\n",
       "        [0.0180],\n",
       "        [0.0244],\n",
       "        [0.0360],\n",
       "        [0.0115],\n",
       "        [0.0102],\n",
       "        [0.0408],\n",
       "        [0.0080],\n",
       "        [0.0210],\n",
       "        [0.0405],\n",
       "        [0.0212],\n",
       "        [0.0386],\n",
       "        [0.0194],\n",
       "        [0.0285],\n",
       "        [0.0356],\n",
       "        [0.0387],\n",
       "        [0.0343],\n",
       "        [0.0261],\n",
       "        [0.0362],\n",
       "        [0.0412],\n",
       "        [0.0177],\n",
       "        [0.0119],\n",
       "        [0.0358],\n",
       "        [0.0180],\n",
       "        [0.0054],\n",
       "        [0.0307],\n",
       "        [0.0154],\n",
       "        [0.0085],\n",
       "        [0.0009],\n",
       "        [0.0135],\n",
       "        [0.0342],\n",
       "        [0.0033],\n",
       "        [0.0415],\n",
       "        [0.0261],\n",
       "        [0.0322],\n",
       "        [0.0280],\n",
       "        [0.0420],\n",
       "        [0.0406],\n",
       "        [0.0306],\n",
       "        [0.0094],\n",
       "        [0.0328],\n",
       "        [0.0350],\n",
       "        [0.0324],\n",
       "        [0.0194],\n",
       "        [0.0337],\n",
       "        [0.0264],\n",
       "        [0.0429],\n",
       "        [0.0270],\n",
       "        [0.0266],\n",
       "        [0.0284],\n",
       "        [0.0174],\n",
       "        [0.0334],\n",
       "        [0.0208],\n",
       "        [0.0314],\n",
       "        [0.0125],\n",
       "        [0.0195],\n",
       "        [0.0217],\n",
       "        [0.0334],\n",
       "        [0.0127],\n",
       "        [0.0322],\n",
       "        [0.0273],\n",
       "        [0.0255],\n",
       "        [0.0428],\n",
       "        [0.0227],\n",
       "        [0.0221],\n",
       "        [0.0385],\n",
       "        [0.0344],\n",
       "        [0.0343],\n",
       "        [0.0421],\n",
       "        [0.0413],\n",
       "        [0.0186],\n",
       "        [0.0205],\n",
       "        [0.0312],\n",
       "        [0.0315],\n",
       "        [0.0210]], grad_fn=<SubBackward0>)"
      ]
     },
     "execution_count": 20,
     "metadata": {},
     "output_type": "execute_result"
    }
   ],
   "source": [
    "m_x"
   ]
  },
  {
   "cell_type": "code",
   "execution_count": null,
   "metadata": {},
   "outputs": [],
   "source": []
  }
 ],
 "metadata": {
  "kernelspec": {
   "display_name": "torch",
   "language": "python",
   "name": "python3"
  },
  "language_info": {
   "codemirror_mode": {
    "name": "ipython",
    "version": 3
   },
   "file_extension": ".py",
   "mimetype": "text/x-python",
   "name": "python",
   "nbconvert_exporter": "python",
   "pygments_lexer": "ipython3",
   "version": "3.9.16"
  },
  "orig_nbformat": 4
 },
 "nbformat": 4,
 "nbformat_minor": 2
}
