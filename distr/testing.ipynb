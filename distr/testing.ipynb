{
 "cells": [
  {
   "cell_type": "code",
   "execution_count": 1,
   "metadata": {},
   "outputs": [
    {
     "name": "stdout",
     "output_type": "stream",
     "text": [
      "Warning: 10000 points required, but 10092 points sampled.\n"
     ]
    }
   ],
   "source": [
    "from main import *"
   ]
  },
  {
   "cell_type": "code",
   "execution_count": 2,
   "metadata": {},
   "outputs": [
    {
     "name": "stdout",
     "output_type": "stream",
     "text": [
      "Loaded snapshot at epoch 100\n"
     ]
    }
   ],
   "source": [
    "model = dde.Model(data, FNN(), save_path=\"models/09-05-2023--20-32-20\")\n",
    "model.compile() # automatically loads last checkpoint"
   ]
  },
  {
   "cell_type": "code",
   "execution_count": 3,
   "metadata": {},
   "outputs": [
    {
     "name": "stdout",
     "output_type": "stream",
     "text": [
      "Started training...\n",
      "epoch: 110, loss_train: 1.40711510181427, loss_test: [0.8400303721427917, 0.23057328164577484, 0.8097658157348633]\n",
      "epoch: 120, loss_train: 1.4004542827606201, loss_test: [0.8502007126808167, 0.22858737409114838, 0.8312044739723206]\n",
      "epoch: 130, loss_train: 1.3918523788452148, loss_test: [0.842767596244812, 0.2262789011001587, 0.8364158272743225]\n",
      "epoch: 140, loss_train: 1.378438115119934, loss_test: [0.8343710899353027, 0.22551915049552917, 0.8395662307739258]\n",
      "epoch: 150, loss_train: 1.3555907011032104, loss_test: [0.8240492343902588, 0.22599007189273834, 0.8409979939460754]\n",
      "epoch: 160, loss_train: 1.3168858289718628, loss_test: [0.8057795763015747, 0.22581757605075836, 0.8404486179351807]\n",
      "epoch: 170, loss_train: 1.258444905281067, loss_test: [0.782057523727417, 0.22525188326835632, 0.8407402634620667]\n",
      "epoch: 180, loss_train: 1.1980928182601929, loss_test: [0.7764359712600708, 0.22330668568611145, 0.8378993272781372]\n",
      "epoch: 190, loss_train: 1.1650986671447754, loss_test: [0.7879501581192017, 0.22283026576042175, 0.8290575742721558]\n",
      "epoch: 200, loss_train: 1.142775058746338, loss_test: [0.7772347927093506, 0.22491322457790375, 0.8203670382499695]\n",
      "Saved checkpoint at models/09-05-2023--20-32-20\n",
      "epoch: 210, loss_train: 1.1241002082824707, loss_test: [0.7678415775299072, 0.22894489765167236, 0.8166593313217163]\n",
      "epoch: 220, loss_train: 1.1069449186325073, loss_test: [0.7639684081077576, 0.23324748873710632, 0.807019829750061]\n",
      "epoch: 230, loss_train: 1.0895969867706299, loss_test: [0.7581753134727478, 0.23608499765396118, 0.7971521019935608]\n",
      "epoch: 240, loss_train: 1.0719032287597656, loss_test: [0.754439115524292, 0.2379561811685562, 0.7890149354934692]\n"
     ]
    },
    {
     "ename": "KeyboardInterrupt",
     "evalue": "",
     "output_type": "error",
     "traceback": [
      "\u001b[0;31m---------------------------------------------------------------------------\u001b[0m",
      "\u001b[0;31mKeyboardInterrupt\u001b[0m                         Traceback (most recent call last)",
      "Cell \u001b[0;32mIn[3], line 1\u001b[0m\n\u001b[0;32m----> 1\u001b[0m model\u001b[39m.\u001b[39;49mtrain(\u001b[39m1000\u001b[39;49m)\n",
      "File \u001b[0;32m~/GitHub/kovasznay_quantum/lightdde/utils.py:9\u001b[0m, in \u001b[0;36mtimeit.<locals>.wrapper\u001b[0;34m(*args, **kwargs)\u001b[0m\n\u001b[1;32m      6\u001b[0m \u001b[39m@wraps\u001b[39m(func)\n\u001b[1;32m      7\u001b[0m \u001b[39mdef\u001b[39;00m \u001b[39mwrapper\u001b[39m(\u001b[39m*\u001b[39margs, \u001b[39m*\u001b[39m\u001b[39m*\u001b[39mkwargs):\n\u001b[1;32m      8\u001b[0m     t0 \u001b[39m=\u001b[39m perf_counter()\n\u001b[0;32m----> 9\u001b[0m     value \u001b[39m=\u001b[39m func(\u001b[39m*\u001b[39;49margs, \u001b[39m*\u001b[39;49m\u001b[39m*\u001b[39;49mkwargs)\n\u001b[1;32m     10\u001b[0m     t1 \u001b[39m=\u001b[39m perf_counter()\n\u001b[1;32m     11\u001b[0m     \u001b[39mprint\u001b[39m(\u001b[39mf\u001b[39m\u001b[39m\"\u001b[39m\u001b[39mExecuted in \u001b[39m\u001b[39m{\u001b[39;00mt1\u001b[39m \u001b[39m\u001b[39m-\u001b[39m\u001b[39m \u001b[39mt0\u001b[39m:\u001b[39;00m\u001b[39m.2f\u001b[39m\u001b[39m}\u001b[39;00m\u001b[39m sec.\u001b[39m\u001b[39m\"\u001b[39m)\n",
      "File \u001b[0;32m~/GitHub/kovasznay_quantum/lightdde/model.py:127\u001b[0m, in \u001b[0;36mModel.train\u001b[0;34m(self, epochs, resample)\u001b[0m\n\u001b[1;32m    125\u001b[0m \u001b[39mprint\u001b[39m(\u001b[39m\"\u001b[39m\u001b[39mStarted training...\u001b[39m\u001b[39m\"\u001b[39m)\n\u001b[1;32m    126\u001b[0m \u001b[39mfor\u001b[39;00m epoch \u001b[39min\u001b[39;00m \u001b[39mrange\u001b[39m(\u001b[39mself\u001b[39m\u001b[39m.\u001b[39mepochs_run\u001b[39m+\u001b[39m\u001b[39m1\u001b[39m, epochs\u001b[39m+\u001b[39m\u001b[39m1\u001b[39m):\n\u001b[0;32m--> 127\u001b[0m     loss_train \u001b[39m=\u001b[39m \u001b[39mself\u001b[39;49m\u001b[39m.\u001b[39;49m_run_train_epoch(epoch)\n\u001b[1;32m    128\u001b[0m     loss_test \u001b[39m=\u001b[39m \u001b[39mself\u001b[39m\u001b[39m.\u001b[39m_run_test_epoch(epoch)\n\u001b[1;32m    129\u001b[0m     grad\u001b[39m.\u001b[39mclear() \u001b[39m# clear cached gradients\u001b[39;00m\n",
      "File \u001b[0;32m~/GitHub/kovasznay_quantum/lightdde/model.py:102\u001b[0m, in \u001b[0;36mModel._run_train_epoch\u001b[0;34m(self, epoch)\u001b[0m\n\u001b[1;32m    100\u001b[0m pred_pde \u001b[39m=\u001b[39m \u001b[39mself\u001b[39m\u001b[39m.\u001b[39mmodel(x_pde)\n\u001b[1;32m    101\u001b[0m pred_bc \u001b[39m=\u001b[39m \u001b[39mself\u001b[39m\u001b[39m.\u001b[39mmodel(x_bc)\n\u001b[0;32m--> 102\u001b[0m loss \u001b[39m=\u001b[39m \u001b[39mself\u001b[39;49m\u001b[39m.\u001b[39;49mdata\u001b[39m.\u001b[39;49mloss(x_pde, x_bc, pred_pde, pred_bc)\n\u001b[1;32m    103\u001b[0m loss\u001b[39m.\u001b[39mbackward()\n\u001b[1;32m    104\u001b[0m \u001b[39mself\u001b[39m\u001b[39m.\u001b[39moptimizer\u001b[39m.\u001b[39mstep()\n",
      "File \u001b[0;32m~/GitHub/kovasznay_quantum/lightdde/data.py:78\u001b[0m, in \u001b[0;36mPDEData.loss\u001b[0;34m(self, x_pde, x_bc, pred_pde, pred_bc, C)\u001b[0m\n\u001b[1;32m     76\u001b[0m loss_bc \u001b[39m=\u001b[39m []\n\u001b[1;32m     77\u001b[0m \u001b[39mfor\u001b[39;00m cond \u001b[39min\u001b[39;00m \u001b[39mself\u001b[39m\u001b[39m.\u001b[39mbcs:\n\u001b[0;32m---> 78\u001b[0m     residual \u001b[39m=\u001b[39m cond(x_bc, pred_bc)\n\u001b[1;32m     79\u001b[0m     loss_bc\u001b[39m.\u001b[39mappend(\u001b[39mself\u001b[39m\u001b[39m.\u001b[39mMSE(residual, torch\u001b[39m.\u001b[39mzeros_like(residual))) \u001b[39m# < (u - u_0)**2 >\u001b[39;00m\n\u001b[1;32m     81\u001b[0m losses \u001b[39m=\u001b[39m loss_pde \u001b[39m+\u001b[39m loss_bc \u001b[39m# list concatenation\u001b[39;00m\n",
      "File \u001b[0;32m~/GitHub/kovasznay_quantum/lightdde/bc.py:30\u001b[0m, in \u001b[0;36mDirichletBC.__call__\u001b[0;34m(self, points, pred, resample)\u001b[0m\n\u001b[1;32m     27\u001b[0m \u001b[39mif\u001b[39;00m (\u001b[39mself\u001b[39m\u001b[39m.\u001b[39mstored_err \u001b[39m!=\u001b[39m \u001b[39mNone\u001b[39;00m) \u001b[39mand\u001b[39;00m (resample \u001b[39m==\u001b[39m \u001b[39mFalse\u001b[39;00m):\n\u001b[1;32m     28\u001b[0m     \u001b[39mreturn\u001b[39;00m \u001b[39mself\u001b[39m\u001b[39m.\u001b[39mstored_err \u001b[39m# return cached value\u001b[39;00m\n\u001b[0;32m---> 30\u001b[0m idx \u001b[39m=\u001b[39m \u001b[39mself\u001b[39;49m\u001b[39m.\u001b[39;49mon_boundary(points, \u001b[39mself\u001b[39;49m\u001b[39m.\u001b[39;49mdomain\u001b[39m.\u001b[39;49mon_boundary(points))\n\u001b[1;32m     31\u001b[0m points \u001b[39m=\u001b[39m points[idx]\n\u001b[1;32m     32\u001b[0m pred \u001b[39m=\u001b[39m pred[idx]\n",
      "File \u001b[0;32m~/GitHub/kovasznay_quantum/lightdde/bc.py:19\u001b[0m, in \u001b[0;36mDirichletBC.__init__.<locals>.<lambda>\u001b[0;34m(x, on)\u001b[0m\n\u001b[1;32m     16\u001b[0m \u001b[39mself\u001b[39m\u001b[39m.\u001b[39mdomain \u001b[39m=\u001b[39m domain\n\u001b[1;32m     17\u001b[0m \u001b[39mself\u001b[39m\u001b[39m.\u001b[39mfunc \u001b[39m=\u001b[39m func\n\u001b[1;32m     18\u001b[0m \u001b[39mself\u001b[39m\u001b[39m.\u001b[39mon_boundary \u001b[39m=\u001b[39m \u001b[39mlambda\u001b[39;00m x, on: torch\u001b[39m.\u001b[39mtensor( \u001b[39m# was np.array\u001b[39;00m\n\u001b[0;32m---> 19\u001b[0m     [on_boundary(x[i], on[i]) \u001b[39mfor\u001b[39;00m i \u001b[39min\u001b[39;00m \u001b[39mrange\u001b[39m(\u001b[39mlen\u001b[39m(x))]\n\u001b[1;32m     20\u001b[0m )\n\u001b[1;32m     21\u001b[0m \u001b[39mself\u001b[39m\u001b[39m.\u001b[39mcomponent \u001b[39m=\u001b[39m component\n\u001b[1;32m     23\u001b[0m \u001b[39mself\u001b[39m\u001b[39m.\u001b[39mstored_err \u001b[39m=\u001b[39m \u001b[39mNone\u001b[39;00m\n",
      "File \u001b[0;32m~/GitHub/kovasznay_quantum/lightdde/bc.py:19\u001b[0m, in \u001b[0;36m<listcomp>\u001b[0;34m(.0)\u001b[0m\n\u001b[1;32m     16\u001b[0m \u001b[39mself\u001b[39m\u001b[39m.\u001b[39mdomain \u001b[39m=\u001b[39m domain\n\u001b[1;32m     17\u001b[0m \u001b[39mself\u001b[39m\u001b[39m.\u001b[39mfunc \u001b[39m=\u001b[39m func\n\u001b[1;32m     18\u001b[0m \u001b[39mself\u001b[39m\u001b[39m.\u001b[39mon_boundary \u001b[39m=\u001b[39m \u001b[39mlambda\u001b[39;00m x, on: torch\u001b[39m.\u001b[39mtensor( \u001b[39m# was np.array\u001b[39;00m\n\u001b[0;32m---> 19\u001b[0m     [on_boundary(x[i], on[i]) \u001b[39mfor\u001b[39;00m i \u001b[39min\u001b[39;00m \u001b[39mrange\u001b[39m(\u001b[39mlen\u001b[39m(x))]\n\u001b[1;32m     20\u001b[0m )\n\u001b[1;32m     21\u001b[0m \u001b[39mself\u001b[39m\u001b[39m.\u001b[39mcomponent \u001b[39m=\u001b[39m component\n\u001b[1;32m     23\u001b[0m \u001b[39mself\u001b[39m\u001b[39m.\u001b[39mstored_err \u001b[39m=\u001b[39m \u001b[39mNone\u001b[39;00m\n",
      "File \u001b[0;32m~/GitHub/kovasznay_quantum/main.py:61\u001b[0m, in \u001b[0;36mon_boundary_p\u001b[0;34m(x, on_boundary)\u001b[0m\n\u001b[1;32m     60\u001b[0m \u001b[39mdef\u001b[39;00m \u001b[39mon_boundary_p\u001b[39m(x, on_boundary):\n\u001b[0;32m---> 61\u001b[0m     \u001b[39mreturn\u001b[39;00m on_boundary \u001b[39mand\u001b[39;00m torch\u001b[39m.\u001b[39;49misclose(x[\u001b[39m0\u001b[39;49m], torch\u001b[39m.\u001b[39;49mtensor(\u001b[39m1.0\u001b[39;49m))\n",
      "\u001b[0;31mKeyboardInterrupt\u001b[0m: "
     ]
    }
   ],
   "source": [
    "model.train(1000)"
   ]
  },
  {
   "attachments": {},
   "cell_type": "markdown",
   "metadata": {},
   "source": [
    "# Load csv loss"
   ]
  },
  {
   "cell_type": "code",
   "execution_count": 11,
   "metadata": {},
   "outputs": [],
   "source": [
    "import pandas as pd\n",
    "import matplotlib.pyplot as plt"
   ]
  },
  {
   "cell_type": "code",
   "execution_count": 9,
   "metadata": {},
   "outputs": [],
   "source": [
    "df = pd.read_csv(\"models/09-05-2023--20-32-20/log.csv\", index_col=\"epoch\")"
   ]
  },
  {
   "cell_type": "code",
   "execution_count": 14,
   "metadata": {},
   "outputs": [
    {
     "data": {
      "text/html": [
       "<div>\n",
       "<style scoped>\n",
       "    .dataframe tbody tr th:only-of-type {\n",
       "        vertical-align: middle;\n",
       "    }\n",
       "\n",
       "    .dataframe tbody tr th {\n",
       "        vertical-align: top;\n",
       "    }\n",
       "\n",
       "    .dataframe thead th {\n",
       "        text-align: right;\n",
       "    }\n",
       "</style>\n",
       "<table border=\"1\" class=\"dataframe\">\n",
       "  <thead>\n",
       "    <tr style=\"text-align: right;\">\n",
       "      <th></th>\n",
       "      <th>loss_train</th>\n",
       "      <th>u_err</th>\n",
       "      <th>v_err</th>\n",
       "      <th>p_err</th>\n",
       "    </tr>\n",
       "    <tr>\n",
       "      <th>epoch</th>\n",
       "      <th></th>\n",
       "      <th></th>\n",
       "      <th></th>\n",
       "      <th></th>\n",
       "    </tr>\n",
       "  </thead>\n",
       "  <tbody>\n",
       "    <tr>\n",
       "      <th>10</th>\n",
       "      <td>1.856801</td>\n",
       "      <td>0.774331</td>\n",
       "      <td>0.218867</td>\n",
       "      <td>0.883473</td>\n",
       "    </tr>\n",
       "    <tr>\n",
       "      <th>20</th>\n",
       "      <td>1.490682</td>\n",
       "      <td>1.041505</td>\n",
       "      <td>0.214769</td>\n",
       "      <td>0.926906</td>\n",
       "    </tr>\n",
       "    <tr>\n",
       "      <th>30</th>\n",
       "      <td>1.388632</td>\n",
       "      <td>0.863859</td>\n",
       "      <td>0.218773</td>\n",
       "      <td>0.916701</td>\n",
       "    </tr>\n",
       "    <tr>\n",
       "      <th>40</th>\n",
       "      <td>1.391880</td>\n",
       "      <td>0.848847</td>\n",
       "      <td>0.218979</td>\n",
       "      <td>0.903519</td>\n",
       "    </tr>\n",
       "    <tr>\n",
       "      <th>50</th>\n",
       "      <td>1.374732</td>\n",
       "      <td>0.907425</td>\n",
       "      <td>0.219978</td>\n",
       "      <td>0.891003</td>\n",
       "    </tr>\n",
       "  </tbody>\n",
       "</table>\n",
       "</div>"
      ],
      "text/plain": [
       "       loss_train     u_err     v_err     p_err\n",
       "epoch                                          \n",
       "10       1.856801  0.774331  0.218867  0.883473\n",
       "20       1.490682  1.041505  0.214769  0.926906\n",
       "30       1.388632  0.863859  0.218773  0.916701\n",
       "40       1.391880  0.848847  0.218979  0.903519\n",
       "50       1.374732  0.907425  0.219978  0.891003"
      ]
     },
     "execution_count": 14,
     "metadata": {},
     "output_type": "execute_result"
    }
   ],
   "source": [
    "df.head()"
   ]
  },
  {
   "cell_type": "code",
   "execution_count": 15,
   "metadata": {},
   "outputs": [
    {
     "data": {
      "text/plain": [
       "[<matplotlib.lines.Line2D at 0x7f97ccb0bd90>]"
      ]
     },
     "execution_count": 15,
     "metadata": {},
     "output_type": "execute_result"
    },
    {
     "data": {
      "image/png": "[encoded data removed]",
      "text/plain": [
       "<Figure size 640x480 with 1 Axes>"
      ]
     },
     "metadata": {},
     "output_type": "display_data"
    }
   ],
   "source": [
    "plt.plot(df.index, df[\"loss_train\"])"
   ]
  },
  {
   "cell_type": "code",
   "execution_count": null,
   "metadata": {},
   "outputs": [],
   "source": []
  }
 ],
 "metadata": {
  "kernelspec": {
   "display_name": "torch",
   "language": "python",
   "name": "python3"
  },
  "language_info": {
   "codemirror_mode": {
    "name": "ipython",
    "version": 3
   },
   "file_extension": ".py",
   "mimetype": "text/x-python",
   "name": "python",
   "nbconvert_exporter": "python",
   "pygments_lexer": "ipython3",
   "version": "3.9.16"
  },
  "orig_nbformat": 4
 },
 "nbformat": 4,
 "nbformat_minor": 2
}
